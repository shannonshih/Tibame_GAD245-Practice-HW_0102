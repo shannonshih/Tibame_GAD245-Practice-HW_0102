{
  "nbformat": 4,
  "nbformat_minor": 0,
  "metadata": {
    "colab": {
      "provenance": [],
      "authorship_tag": "ABX9TyNI24kzk+pMlq3P+iLaT4JC",
      "include_colab_link": true
    },
    "kernelspec": {
      "name": "python3",
      "display_name": "Python 3"
    },
    "language_info": {
      "name": "python"
    }
  },
  "cells": [
    {
      "cell_type": "markdown",
      "metadata": {
        "id": "view-in-github",
        "colab_type": "text"
      },
      "source": [
        "<a href=\"https://colab.research.google.com/github/shannonshih/Tibame_GAD245-Practice-HW_0102/blob/main/Practice01_0102.ipynb\" target=\"_parent\"><img src=\"https://colab.research.google.com/assets/colab-badge.svg\" alt=\"Open In Colab\"/></a>"
      ]
    },
    {
      "cell_type": "code",
      "execution_count": 1,
      "metadata": {
        "id": "L_luyRDAxwrq"
      },
      "outputs": [],
      "source": [
        "f = open(\"a.txt\", \"w\", encoding=\"utf-8\")\n",
        "# 以前邏輯 寫入功能: write(f, \"abcde\")\n",
        "# 但我們發覺妳那第一個參數非得是檔案型態不可\n",
        "# 我們會想強調 這個功能是檔案的特殊功能\n",
        "# 專屬功能: f.write(\"abcde\")\n",
        "f.write(\"abcde\")\n",
        "# 所以打不出來的字, 譬如換行, 我們就會用兩個符號來組合這個字 \\n\n",
        "f.write(\"\\nfgh\")\n",
        "# 記得關閉, 因為關閉的時候會順便幫妳存檔\n",
        "# 以前: close(f)\n",
        "# 專屬功能: f.close()\n",
        "f.close()"
      ]
    },
    {
      "cell_type": "code",
      "source": [
        "# 資料夾資料夾  資料夾檔案 分隔always使用/\n",
        "f = open(\"sample_data/README.md\", \"r\", encoding=\"utf-8\")\n",
        "# 以前: content = read(f)\n",
        "# 專屬功能: content = f.read()\n",
        "content = f.read()\n",
        "print(content)\n",
        "f.close()"
      ],
      "metadata": {
        "colab": {
          "base_uri": "https://localhost:8080/"
        },
        "id": "eFyL5DvZ6Iqz",
        "outputId": "f46688d9-ef44-418b-e208-af0d161d677a"
      },
      "execution_count": 2,
      "outputs": [
        {
          "output_type": "stream",
          "name": "stdout",
          "text": [
            "This directory includes a few sample datasets to get you started.\n",
            "\n",
            "*   `california_housing_data*.csv` is California housing data from the 1990 US\n",
            "    Census; more information is available at:\n",
            "    https://docs.google.com/document/d/e/2PACX-1vRhYtsvc5eOR2FWNCwaBiKL6suIOrxJig8LcSBbmCbyYsayia_DvPOOBlXZ4CAlQ5nlDD8kTaIDRwrN/pub\n",
            "\n",
            "*   `mnist_*.csv` is a small sample of the\n",
            "    [MNIST database](https://en.wikipedia.org/wiki/MNIST_database), which is\n",
            "    described at: http://yann.lecun.com/exdb/mnist/\n",
            "\n",
            "*   `anscombe.json` contains a copy of\n",
            "    [Anscombe's quartet](https://en.wikipedia.org/wiki/Anscombe%27s_quartet); it\n",
            "    was originally described in\n",
            "\n",
            "    Anscombe, F. J. (1973). 'Graphs in Statistical Analysis'. American\n",
            "    Statistician. 27 (1): 17-21. JSTOR 2682899.\n",
            "\n",
            "    and our copy was prepared by the\n",
            "    [vega_datasets library](https://github.com/altair-viz/vega_datasets/blob/4f67bdaad10f45e3549984e17e1b3088c731503d/vega_datasets/_data/anscombe.json).\n",
            "\n"
          ]
        }
      ]
    },
    {
      "cell_type": "code",
      "source": [
        "# 預設值定義\n",
        "def add(n1, n2=3.14, n3=20, n4=50):\n",
        "    ans = n1 + n2 + n3\n",
        "    return ans\n",
        "print(add(3, 5))\n",
        "print(add(3))\n",
        "print(add(3, n3=40))"
      ],
      "metadata": {
        "id": "MWHatrJ46NkX"
      },
      "execution_count": null,
      "outputs": []
    },
    {
      "cell_type": "code",
      "source": [
        "scores = [30, 20, 60, 60, 40]\n",
        "print(sum(scores),\n",
        "   min(scores),\n",
        "   max(scores),\n",
        "   len(scores))\n",
        "print(60 in scores)\n",
        "\n",
        "# print(scores[len(scores)-1])\n",
        "print(scores[-1])\n",
        "print(scores[1:4])\n",
        "print(scores[1:-1])\n",
        "print(scores[:4])\n",
        "print(scores[1:])\n",
        "\n",
        "# list[2:11:3] [2, 5, 8]\n",
        "print(scores[1:5:2])\n",
        "# 奇數位置\n",
        "print(scores[::2])\n",
        "# 偶數位置\n",
        "print(scores[1::2])\n",
        "# 跳號的值是正的, 就左到右\n",
        "# 跳號的值是負的, 從右到左\n",
        "# list[11:2:-3] [11, 8, 5]\n",
        "# !!!!!\n",
        "print(scores[::-1])"
      ],
      "metadata": {
        "colab": {
          "base_uri": "https://localhost:8080/"
        },
        "id": "KYARrFM5_SU4",
        "outputId": "bc7e9742-76eb-43fc-d272-94e3fae49fcb"
      },
      "execution_count": 10,
      "outputs": [
        {
          "output_type": "stream",
          "name": "stdout",
          "text": [
            "210 20 60 5\n",
            "True\n",
            "40\n",
            "[20, 60, 60]\n",
            "[20, 60, 60]\n",
            "[30, 20, 60, 60]\n",
            "[20, 60, 60, 40]\n",
            "[20, 60]\n",
            "[30, 60, 40]\n",
            "[20, 60]\n",
            "[40, 60, 60, 20, 30]\n"
          ]
        }
      ]
    },
    {
      "cell_type": "code",
      "source": [
        "scores = [60, 80, 20, 30, 50]\n",
        "total = 0\n",
        "i = 0\n",
        "while i < len(scores):\n",
        "    # !!! 很不泛用: 以後不適每種群的key都會是0 1 2 3\n",
        "    if scores[i] >= 60:\n",
        "        total = total + 1\n",
        "        print(scores[i])\n",
        "    i = i + 1\n",
        "print(total)"
      ],
      "metadata": {
        "colab": {
          "base_uri": "https://localhost:8080/"
        },
        "id": "xUPbU0V7C5B2",
        "outputId": "c89e0865-1bb5-4dcf-a3e5-d7c5a7388ed7"
      },
      "execution_count": 16,
      "outputs": [
        {
          "output_type": "stream",
          "name": "stdout",
          "text": [
            "60\n",
            "80\n",
            "2\n"
          ]
        }
      ]
    },
    {
      "cell_type": "code",
      "source": [
        "scores = [60, 80, 20, 30, 50]\n",
        "total = 0\n",
        "for s in scores:\n",
        "    if s >= 60:\n",
        "        total = total + 1\n",
        "        print(s)\n",
        "print(total)"
      ],
      "metadata": {
        "colab": {
          "base_uri": "https://localhost:8080/"
        },
        "id": "C2l3D6sHExap",
        "outputId": "31668dcf-c9ab-4753-b058-0a24606adc8a"
      },
      "execution_count": 20,
      "outputs": [
        {
          "output_type": "stream",
          "name": "stdout",
          "text": [
            "60\n",
            "80\n",
            "2\n"
          ]
        }
      ]
    },
    {
      "cell_type": "code",
      "source": [
        "# 1 + 2.... + 10\n",
        "total = 0\n",
        "i = 0\n",
        "while i < 10:\n",
        "    total = total + (i + 1)\n",
        "    print(total)\n",
        "    i = i + 1"
      ],
      "metadata": {
        "colab": {
          "base_uri": "https://localhost:8080/"
        },
        "id": "ygYaU1c_Gd1B",
        "outputId": "ae546176-8188-4bad-dc39-d1c6b1e2a3b7"
      },
      "execution_count": 21,
      "outputs": [
        {
          "output_type": "stream",
          "name": "stdout",
          "text": [
            "1\n",
            "3\n",
            "6\n",
            "10\n",
            "15\n",
            "21\n",
            "28\n",
            "36\n",
            "45\n",
            "55\n"
          ]
        }
      ]
    },
    {
      "cell_type": "code",
      "source": [
        "total = 0\n",
        "for i in range(10):\n",
        "    total = total + (i + 1)\n",
        "    print(total)"
      ],
      "metadata": {
        "colab": {
          "base_uri": "https://localhost:8080/"
        },
        "id": "vVRqbK88G_9t",
        "outputId": "72abb800-cb00-4079-c652-6720c9739cc8"
      },
      "execution_count": 23,
      "outputs": [
        {
          "output_type": "stream",
          "name": "stdout",
          "text": [
            "1\n",
            "3\n",
            "6\n",
            "10\n",
            "15\n",
            "21\n",
            "28\n",
            "36\n",
            "45\n",
            "55\n"
          ]
        }
      ]
    },
    {
      "cell_type": "code",
      "source": [
        "# for in\n",
        "# 1 + 2.... + 10\n",
        "list[i] = int(input(\"請輸入10個數字: \"))\n",
        "i = 0\n",
        "total = 0\n",
        "for s in list[i]:\n",
        "    total = total + list[i]\n",
        "    print(total)\n",
        "    i = i + 1"
      ],
      "metadata": {
        "colab": {
          "base_uri": "https://localhost:8080/",
          "height": 228
        },
        "id": "XvXx5rfhFaYM",
        "outputId": "9102f452-9bb3-4370-abab-aac912d5ac02"
      },
      "execution_count": 40,
      "outputs": [
        {
          "name": "stdout",
          "output_type": "stream",
          "text": [
            "請輸入10個數字: 1 2 3 4 5 6 7 8 9 10\n"
          ]
        },
        {
          "output_type": "error",
          "ename": "ValueError",
          "evalue": "invalid literal for int() with base 10: '1 2 3 4 5 6 7 8 9 10'",
          "traceback": [
            "\u001b[0;31m---------------------------------------------------------------------------\u001b[0m",
            "\u001b[0;31mValueError\u001b[0m                                Traceback (most recent call last)",
            "\u001b[0;32m<ipython-input-40-b60e0b009a37>\u001b[0m in \u001b[0;36m<cell line: 3>\u001b[0;34m()\u001b[0m\n\u001b[1;32m      1\u001b[0m \u001b[0;31m# for in\u001b[0m\u001b[0;34m\u001b[0m\u001b[0;34m\u001b[0m\u001b[0m\n\u001b[1;32m      2\u001b[0m \u001b[0;31m# 1 + 2.... + 10\u001b[0m\u001b[0;34m\u001b[0m\u001b[0;34m\u001b[0m\u001b[0m\n\u001b[0;32m----> 3\u001b[0;31m \u001b[0mlist\u001b[0m\u001b[0;34m[\u001b[0m\u001b[0mi\u001b[0m\u001b[0;34m]\u001b[0m \u001b[0;34m=\u001b[0m \u001b[0mint\u001b[0m\u001b[0;34m(\u001b[0m\u001b[0minput\u001b[0m\u001b[0;34m(\u001b[0m\u001b[0;34m\"請輸入10個數字: \"\u001b[0m\u001b[0;34m)\u001b[0m\u001b[0;34m)\u001b[0m\u001b[0;34m\u001b[0m\u001b[0;34m\u001b[0m\u001b[0m\n\u001b[0m\u001b[1;32m      4\u001b[0m \u001b[0mi\u001b[0m \u001b[0;34m=\u001b[0m \u001b[0;36m0\u001b[0m\u001b[0;34m\u001b[0m\u001b[0;34m\u001b[0m\u001b[0m\n\u001b[1;32m      5\u001b[0m \u001b[0mtotal\u001b[0m \u001b[0;34m=\u001b[0m \u001b[0;36m0\u001b[0m\u001b[0;34m\u001b[0m\u001b[0;34m\u001b[0m\u001b[0m\n",
            "\u001b[0;31mValueError\u001b[0m: invalid literal for int() with base 10: '1 2 3 4 5 6 7 8 9 10'"
          ]
        }
      ]
    }
  ]
}